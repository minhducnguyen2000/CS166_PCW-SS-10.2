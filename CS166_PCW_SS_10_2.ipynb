{
  "nbformat": 4,
  "nbformat_minor": 0,
  "metadata": {
    "colab": {
      "name": "CS166_PCW SS 10.2.ipynb",
      "provenance": [],
      "collapsed_sections": []
    },
    "kernelspec": {
      "name": "python3",
      "display_name": "Python 3"
    },
    "language_info": {
      "name": "python"
    }
  },
  "cells": [
    {
      "cell_type": "markdown",
      "source": [
        "Sayama Exercise 16.2"
      ],
      "metadata": {
        "id": "7cbSeAEsd0Lv"
      }
    },
    {
      "cell_type": "code",
      "execution_count": null,
      "metadata": {
        "id": "Ztj9SSQJc_Of"
      },
      "outputs": [],
      "source": [
        "# Code from Sayama\n",
        "import matplotlib\n",
        "from pylab import *\n",
        "import networkx as nx\n",
        "import random as rd\n",
        "\n",
        "def initialize():\n",
        "    global g\n",
        "    g = nx.karate_club_graph()\n",
        "    g.pos = nx.spring_layout(g)\n",
        "    for i in g.nodes:\n",
        "        g.nodes[i][\"state\"] = 1 if random() < 0.5 else 0\n",
        "    global steps\n",
        "    steps = 0\n",
        "\n",
        "\n",
        "def observe():\n",
        "    global g\n",
        "    cla()\n",
        "    nx.draw(\n",
        "        g, vmin=0, vmax=1, node_color=[g.nodes[i][\"state\"] for i in g.nodes], pos=g.pos\n",
        "    )\n",
        "\n",
        "\n",
        "def update():\n",
        "    global g\n",
        "    listener = rd.choice(list(g.nodes))\n",
        "    speaker = rd.choice(list(g.neighbors(listener)))\n",
        "    g.nodes[listener][\"state\"] = g.nodes[speaker][\"state\"]"
      ]
    },
    {
      "cell_type": "code",
      "source": [
        "import matplotlib.pyplot as plt\n",
        "\n",
        "results_1 = []\n",
        "\n",
        "for _ in range(1000):\n",
        "    initialize()\n",
        "    steps = 0\n",
        "    states = set(nx.get_node_attributes(g, 'state').values())\n",
        "    while len(states) != 1:\n",
        "        steps += 1\n",
        "        update()\n",
        "        states = set(nx.get_node_attributes(g, 'state').values())\n",
        "    results_1.append(steps)\n",
        "\n",
        "plt.hist(results_1)\n",
        "plt.xlabel(\"Number of steps until homogenized state\")\n",
        "plt.ylabel(\"Frequency\")\n",
        "plt.title(\"Voter model - original version\")"
      ],
      "metadata": {
        "colab": {
          "base_uri": "https://localhost:8080/",
          "height": 313
        },
        "id": "WuK-NVzChJI2",
        "outputId": "5c78be95-fc6d-4c3b-93ce-048c8b8e72ef"
      },
      "execution_count": null,
      "outputs": [
        {
          "output_type": "execute_result",
          "data": {
            "text/plain": [
              "Text(0.5, 1.0, 'Voter model - original version')"
            ]
          },
          "metadata": {},
          "execution_count": 3
        },
        {
          "output_type": "display_data",
          "data": {
            "text/plain": [
              "<Figure size 432x288 with 1 Axes>"
            ],
            "image/png": "[encoded data removed]"
          },
          "metadata": {
            "needs_background": "light"
          }
        }
      ]
    },
    {
      "cell_type": "markdown",
      "source": [
        "Sayama Exercise 16.3"
      ],
      "metadata": {
        "id": "v4tNRJJxmgd_"
      }
    },
    {
      "cell_type": "code",
      "source": [
        "def update_reverse():\n",
        "    global g\n",
        "    speaker = rd.choice(list(g.nodes))\n",
        "    listener = rd.choice(list(g.neighbors(speaker)))\n",
        "    g.nodes[listener][\"state\"] = g.nodes[speaker][\"state\"]\n",
        "\n",
        "def update_edge_based():\n",
        "    global g\n",
        "    edge = rd.choice(list(g.edges))\n",
        "    speaker, listener = random.choice(edge, 2)\n",
        "    g.nodes[listener][\"state\"] = g.nodes[speaker][\"state\"]\n"
      ],
      "metadata": {
        "id": "QF_Erh-ieRMx"
      },
      "execution_count": null,
      "outputs": []
    },
    {
      "cell_type": "code",
      "source": [
        "results_2 = []\n",
        "\n",
        "for _ in range(1000):\n",
        "    initialize()\n",
        "    steps = 0\n",
        "    states = set(nx.get_node_attributes(g, 'state').values())\n",
        "    while len(states) != 1:\n",
        "        steps += 1\n",
        "        update_reverse()\n",
        "        states = set(nx.get_node_attributes(g, 'state').values())\n",
        "    results_2.append(steps)\n",
        "\n",
        "plt.hist(results_2)\n",
        "plt.xlabel(\"Number of steps until homogenized state\")\n",
        "plt.ylabel(\"Frequency\")\n",
        "plt.title(\"Voter model - reversed version\")"
      ],
      "metadata": {
        "colab": {
          "base_uri": "https://localhost:8080/",
          "height": 313
        },
        "id": "Bpcn3bdbjo_6",
        "outputId": "87d8df68-3070-45dc-af16-36ecb78c478e"
      },
      "execution_count": null,
      "outputs": [
        {
          "output_type": "execute_result",
          "data": {
            "text/plain": [
              "Text(0.5, 1.0, 'Voter model - reversed version')"
            ]
          },
          "metadata": {},
          "execution_count": 5
        },
        {
          "output_type": "display_data",
          "data": {
            "text/plain": [
              "<Figure size 432x288 with 1 Axes>"
            ],
            "image/png": "[encoded data removed]"
          },
          "metadata": {
            "needs_background": "light"
          }
        }
      ]
    },
    {
      "cell_type": "code",
      "source": [
        "results_3 = []\n",
        "\n",
        "for _ in range(1000):\n",
        "    initialize()\n",
        "    steps = 0\n",
        "    states = set(nx.get_node_attributes(g, 'state').values())\n",
        "    while len(states) != 1:\n",
        "        steps += 1\n",
        "        update_reverse()\n",
        "        states = set(nx.get_node_attributes(g, 'state').values())\n",
        "    results_3.append(steps)\n",
        "\n",
        "plt.hist(results_3)\n",
        "plt.xlabel(\"Number of steps until homogenized state\")\n",
        "plt.ylabel(\"Frequency\")\n",
        "plt.title(\"Voter model - edge-based version\")"
      ],
      "metadata": {
        "colab": {
          "base_uri": "https://localhost:8080/",
          "height": 313
        },
        "id": "qOdhST26en3S",
        "outputId": "f7007638-11f9-48ee-dc99-569354c93bde"
      },
      "execution_count": null,
      "outputs": [
        {
          "output_type": "execute_result",
          "data": {
            "text/plain": [
              "Text(0.5, 1.0, 'Voter model - edge-based version')"
            ]
          },
          "metadata": {},
          "execution_count": 9
        },
        {
          "output_type": "display_data",
          "data": {
            "text/plain": [
              "<Figure size 432x288 with 1 Axes>"
            ],
            "image/png": "[encoded data removed]"
          },
          "metadata": {
            "needs_background": "light"
          }
        }
      ]
    },
    {
      "cell_type": "code",
      "source": [
        "import numpy as np\n",
        "\n",
        "print(f\"Mean of original version of voter model: {np.mean(results_1)}\")\n",
        "print(f\"Mean of reversed version of voter model: {np.mean(results_2)}\")\n",
        "print(f\"Mean of edge-based version of voter model: {np.mean(results_3)}\")"
      ],
      "metadata": {
        "colab": {
          "base_uri": "https://localhost:8080/"
        },
        "id": "rK1R3cJ4gGY2",
        "outputId": "80da1544-1201-4129-96a5-1a521865d937"
      },
      "execution_count": null,
      "outputs": [
        {
          "output_type": "stream",
          "name": "stdout",
          "text": [
            "Mean of original version of voter model: 621.733\n",
            "Mean of reversed version of voter model: 3673.253\n",
            "Mean of edge-based version of voter model: 3742.501\n"
          ]
        }
      ]
    }
  ]
}